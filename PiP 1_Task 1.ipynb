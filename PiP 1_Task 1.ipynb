{
 "cells": [
  {
   "cell_type": "markdown",
   "metadata": {},
   "source": [
    "# PiP 1: The Electric Field of a Charged Rod "
   ]
  },
  {
   "cell_type": "markdown",
   "metadata": {},
   "source": [
    "## Background to Python"
   ]
  },
  {
   "cell_type": "markdown",
   "metadata": {},
   "source": [
    "Please refer back to the introduction to Python given in the preparatory PiP notebook. You can find a more thorough and excellent introduction in the following notebooks, developed for first year engineering students at the University of Cambridge:"
   ]
  },
  {
   "cell_type": "markdown",
   "metadata": {},
   "source": [
    "https://notebooks.azure.com/garth-wells/projects/CUED-IA-Computing-Michaelmas"
   ]
  },
  {
   "cell_type": "markdown",
   "metadata": {},
   "source": [
    "## Section 1: Electric field of a point charge"
   ]
  },
  {
   "cell_type": "markdown",
   "metadata": {},
   "source": [
    "Recall that for a point charge located at ${\\bf r}_0$ the electric field at a point ${\\bf r}$ is given by:"
   ]
  },
  {
   "cell_type": "markdown",
   "metadata": {},
   "source": [
    "$$ {\\bf E_{\\rm point}}({\\bf r}) =  k \\frac{q}{|{\\bf r}- \\bf {r_0}|^3 }\\cdot {({\\bf r}- \\bf {r}_0)} $$"
   ]
  },
  {
   "cell_type": "markdown",
   "metadata": {},
   "source": [
    "Note that we can compute $\\tilde{{\\bf E}}_{\\rm point}({\\bf r})$ instead of ${\\bf E_{\\rm point}}({\\bf r})$ to simplify calculations involving $k$ by substituting $k \\rightarrow 1$:\n",
    "\n",
    "$$ \\tilde{{\\bf E}}_{\\rm point}({\\bf r}) = {\\bf E_{\\rm point}}({\\bf r}) / k =  \\frac{q}{|{\\bf r}- \\bf {r_0}|^3 }\\cdot {({\\bf r}- \\bf {r}_0)} $$"
   ]
  },
  {
   "cell_type": "markdown",
   "metadata": {},
   "source": [
    "This means, that we calculate the electric field \"in units of $k$\". For convenience, we will omit the tilde for ${\\bf E}$ in the following."
   ]
  },
  {
   "cell_type": "markdown",
   "metadata": {},
   "source": [
    "### Implementation of the electric field of a point charge"
   ]
  },
  {
   "cell_type": "markdown",
   "metadata": {},
   "source": [
    "As usual we start with importing the standard libraries. "
   ]
  },
  {
   "cell_type": "code",
   "execution_count": null,
   "metadata": {},
   "outputs": [],
   "source": [
    "import numpy as np\n",
    "%matplotlib notebook\n",
    "import matplotlib.pyplot as plt"
   ]
  },
  {
   "cell_type": "markdown",
   "metadata": {},
   "source": [
    "We re-use our function definition of the electric field of a point charge from the intro PiP:"
   ]
  },
  {
   "cell_type": "code",
   "execution_count": null,
   "metadata": {},
   "outputs": [],
   "source": [
    "def E_point(charge,r0,r):  # function definition to compute the electric field for a point charge (in units of k)\n",
    "                           # Input variables: charge: charge of point particle (real number), \n",
    "                           #                  r0: position of charge (3D vector), \n",
    "                           #                  r: position at which you want to evaluate E (3D vector)\n",
    "                           # Output variable: electric field (3D vector) \n",
    "\n",
    "    dist=(r0[0]-r[0])**2+(r0[1]-r[1])**2+(r0[2]-r[2])**2  # computation of denominator in above formula\n",
    "    dist=dist**(3/2)\n",
    "    Ex=charge/dist*(r[0]-r0[0])                           # computation of electric field components\n",
    "    Ey=charge/dist*(r[1]-r0[1])\n",
    "    Ez=charge/dist*(r[2]-r0[2])\n",
    "    return np.array([Ex,Ey,Ez])                           # return the electric field as a 3D vector (numpy array)"
   ]
  },
  {
   "cell_type": "markdown",
   "metadata": {},
   "source": [
    "## Section 2: Calculating the electric field for a line charge directly by numerical integration"
   ]
  },
  {
   "cell_type": "markdown",
   "metadata": {},
   "source": [
    "You have seen in class that the electric field for a thin uniformly charged rod with length $L$ can be calculated using an integral. We will assume that the line charge is located along the $z$ axis, thus \n",
    "the positions on this line are given by $z \\, {\\hat {\\bf k}}$ with $\\hat{{\\bf k}}$ being the unit vector along the $z$ axis. The rod is centered at the origin. The electric field ${\\bf E}_{\\rm rod}({\\bf r})$ at an arbitrary point ${\\bf r}$ is then given by:"
   ]
  },
  {
   "cell_type": "markdown",
   "metadata": {},
   "source": [
    "$$ {\\bf E}_{\\rm rod}({\\bf r}) = \\int_{-L/2}^{L/2} \\frac{\\lambda}{|z\\, \\hat{{\\bf k}}- \\bf {r}|^3 }\\cdot {({\\bf r}-  z\\, \\hat{\\bf{k}})} \\, dz \\: ,$$"
   ]
  },
  {
   "cell_type": "markdown",
   "metadata": {},
   "source": [
    "Where $\\lambda$ is the charge density. The electric field for an infinite line charge is obtained by taking the limit $L \\rightarrow \\infty$.\n",
    "\n",
    "We can approximate the integral as a simple sum by dividing the rod into $N$ segments:"
   ]
  },
  {
   "cell_type": "markdown",
   "metadata": {},
   "source": [
    "$$ E_{\\rm rod}{(\\bf r}) \\approx \\sum_{i=1}^{N} \\: \\frac{\\lambda \\Delta z}{|z_i\\, {\\bf \\hat{k}}- \\bf {r}|^3 }\\cdot {({\\bf r}-  z_i\\, \\bf{k})} \\: ,\n",
    "$$"
   ]
  },
  {
   "cell_type": "markdown",
   "metadata": {},
   "source": [
    "Where $z_i$ is the mid-point of the $i$-th line segment of length $\\Delta z$. This approximation is useful since the above sum is discrete and can be implemented in Python via a ```for``` loop. By increasing the number of segments (of decreasing length) the numerical result will converge towards the analytical solution. \n",
    "\n",
    "We start with calculating the mid points along our rod. Make sure that you understand what is done. Then run the code and look at the output. Please discuss with your partner and ask if you have questions."
   ]
  },
  {
   "cell_type": "code",
   "execution_count": null,
   "metadata": {},
   "outputs": [],
   "source": [
    "#---------------------------INPUT-------------------------\n",
    "\n",
    "L = 200                    # length of the rod\n",
    "n_segments = 2001          # number of rod segments - should be an odd number! (why?)\n",
    "\n",
    "#---------------------------------------------------------\n",
    "\n",
    "L_segment = L/n_segments       # length of rod segments\n",
    "\n",
    "start_z = -L/2. + L_segment/2.      # mid point of first line segment\n",
    "end_z   =  L/2. - L_segment/2.      # mid point of last line segment\n",
    "\n",
    "z = np.linspace(start_z,end_z,n_segments)   # computing the midpoints' positions of line segments\n",
    "\n",
    "print(\"Positions of the midpoints of the rod segments: \\n\",z)"
   ]
  },
  {
   "cell_type": "markdown",
   "metadata": {},
   "source": [
    "Remember that ```z``` is an array starting at ```z[0]``` and ending at  ```z[n_segments-1]```. The length between the points on the line is given by the variable ```L_segment```. We now want to calculate the electric field at a given location ```rr``` due to a uniform linear charge density on a rod described by the line."
   ]
  },
  {
   "cell_type": "markdown",
   "metadata": {},
   "source": [
    "<span style=\"color: red;\"> ***Try it yourself***: Below is a code that allows you to calculate the electric field of a charged rod. Make sure that you understand every step of the code. Use the code to calculate the electric field of a rod at ${\\bf r} = (1, 0, 0)$ and ${\\bf r} = (1, 0, -4)$ with $L =$ 200 and $L =$ 20, $\\lambda =$ 1. </span>              "
   ]
  },
  {
   "cell_type": "code",
   "execution_count": 6,
   "metadata": {
    "scrolled": true
   },
   "outputs": [
    {
     "name": "stdout",
     "output_type": "stream",
     "text": [
      "The electric field at $r$ = ( 1.0 , 0.0 , -4.0 ) for L = 20 is:  [ 1.98385263  0.         -0.0931519 ]\n"
     ]
    }
   ],
   "source": [
    "import numpy as np\n",
    "\n",
    "def E_point(charge,r0,r):  # function definition to compute the electric field for a point charge (in units of k)\n",
    "                           # Input variables: charge: charge of point particle (real number), \n",
    "                           #                  r0: position of charge (3D vector), \n",
    "                           #                  r: position at which you want to evaluate E (3D vector)\n",
    "                           # Output variable: electric field (3D vector) \n",
    "\n",
    "    dist=(r0[0]-r[0])**2+(r0[1]-r[1])**2+(r0[2]-r[2])**2  # computation of denominator in above formula\n",
    "    dist=dist**(3/2)\n",
    "    Ex=charge/dist*(r[0]-r0[0])                           # computation of electric field components\n",
    "    Ey=charge/dist*(r[1]-r0[1])\n",
    "    Ez=charge/dist*(r[2]-r0[2])\n",
    "    return np.array([Ex,Ey,Ez])                           # return the electric field as a 3D vector (numpy array)\n",
    "\n",
    "# Numerical Integration of electric field by midpoint formula\n",
    "\n",
    "#---------------------------INPUT-------------------------\n",
    "\n",
    "L = 20                              # length of the rod\n",
    "n_segments = 2001                    # number of rod segments \n",
    "                                     # should be an odd number so that rod is centred at origin!\n",
    "\n",
    "r_x =  1.0                           # input of location where you want to compute electric field\n",
    "r_y =  0.0\n",
    "r_z =  -4.0\n",
    "rr = np.array([r_x,r_y,r_z])     \n",
    "\n",
    "charge_density = 1.0                 # input of charge density lambda\n",
    "\n",
    "#---------------------------------------------------------\n",
    "\n",
    "L_segment = L/n_segments                # length of line segments\n",
    "\n",
    "start_z = -L/2. + L_segment/2.          # mid point of first line segment\n",
    "end_z   =  L/2. - L_segment/2.          # mid point of last line segment\n",
    "\n",
    "z = np.linspace(start_z,end_z,n_segments)  # computing the z positions of midpoints on line segments\n",
    "\n",
    "charge = charge_density * L_segment     # compute charge on an individual line segment \n",
    "\n",
    "sum = np.array([0,0,0])                 # initialisation of the electric field vector\n",
    "\n",
    "for ii in range(0,len(z)):              # Loop over all line segments\n",
    "    r0 = np.array([0,0,z[ii]])          # Define the position of the mid point of line segment\n",
    "    sum = sum + E_point(charge,r0,rr)   # Sum the electric field contributions for every line segment\n",
    "    \n",
    "print(\"The electric field at $r$ = (\",r_x,\",\",r_y,\",\",r_z,\") for L =\",L,\"is: \",sum)   #  Print out the electric field vector"
   ]
  },
  {
   "cell_type": "markdown",
   "metadata": {},
   "source": [
    "Your results should be: \n",
    "\n",
    "1) L = 200, r = (1,0,0):  E = (1.99990001e+00 0.00000000e+00 1.93315450e-15)\n",
    "         \n",
    "2) L = 200, r = (1,0,-4): E = (1.99989953e+00  0.00000000e+00 -8.01161224e-04)\n",
    "\n",
    "3) L = 20,  r = (1,0,0):  E = (1.99007438e+00 0.00000000e+00 4.30699313e-17)\n",
    "\n",
    "4) L = 20,  r = (1,0,-4): E = (1.98385263  0.         -0.0931519)\n",
    " "
   ]
  },
  {
   "cell_type": "markdown",
   "metadata": {},
   "source": [
    "###  <span style=\"color: red;\"> Task 1: </span>\n",
    "\n",
    "<span style=\"color: red;\"> (a) Complete the function definition in the code cell below for a function called ```efield_rod``` which has the linear charge density, the location where the electric field is calculated, the length of the rod and the number of line segments as input variables. Output is the electric field of a rod.</span>\n",
    "<span style=\"color: red;\"> (b) Check that you get the same result from your function as you got above.</span>"
   ]
  },
  {
   "cell_type": "code",
   "execution_count": 18,
   "metadata": {},
   "outputs": [
    {
     "name": "stdout",
     "output_type": "stream",
     "text": [
      "[[-0.19209863  0.          0.19209863]\n",
      " [-0.          0.          0.        ]\n",
      " [ 0.44444444 -0.         -0.44444444]]\n",
      "[[ -0.04873663   0.           0.04873663]\n",
      " [ -0.           0.           0.        ]\n",
      " [ 44.44444444  -0.         -44.44444444]]\n"
     ]
    }
   ],
   "source": [
    "import numpy as np\n",
    "\n",
    "def efield_rod(charge_density, r, L, n):  # INPUT: charge density \n",
    "                                          #        location of electric field r\n",
    "                                          #        length of rod L\n",
    "                                          #        number of segments n\n",
    "                \n",
    "    \n",
    "    L_segment = L/n                       # length of line segments\n",
    "\n",
    "    start_z = -L/2. + L_segment/2.        # mid point of first line segment\n",
    "    end_z   =  L/2. - L_segment/2.        # mid point of last line segment\n",
    "    \n",
    "     \n",
    "    z = np.linspace(start_z,end_z,n)      # computing the z positions of midpoints on line segments  \n",
    "    \n",
    "    # COMPLETE THE CODE HERE (E_point function)\n",
    "\n",
    "    dist=(z[0]-r[0])**2+(z[1]-r[1])**2+(z[2]-r[2])**2  # computation of denominator in above formula\n",
    "    dist=dist**(3/2)\n",
    "    Ex=(charge_density * z)/dist*(r[0]-z[0])                           # computation of electric field components\n",
    "    Ey=(charge_density * z)*(r[1]-z[1])\n",
    "    Ez=(charge_density * z)*(r[2]-z[2])\n",
    "    return np.array([Ex,Ey,Ez])                           # return the electric field as a 3D vector (numpy array)\n",
    "\n",
    "    for ii in range(0,len(z)):              # Loop over all line segments\n",
    "        r0 = np.array([0,0,z[ii]])          # Define the position of the mid point of line segment\n",
    "        sum = sum + efield_rod(charge_density, r, L, n)   # Sum the electric field contributions for every line segment\n",
    "\n",
    "# Numerical Integration of electric field by midpoint formula\n",
    "\n",
    "# return sum\n",
    "\n",
    "print(efield_rod(1, [1,0,0], 2, 3))\n",
    "print(efield_rod(1, [1,0,0], 20, 3))\n",
    "# print(efield_rod(1, [1,0,0], 200, 3))\n",
    "# print(efield_rod(1, [1,0,0], 2000, 3))\n",
    "# print(\"\\n\")\n",
    "# print(efield_rod(1, [1,0,-4], 2, 3))\n",
    "# print(efield_rod(1, [1,0,-4], 20, 3))\n",
    "# print(efield_rod(1, [1,0,-4], 200, 3))\n",
    "# print(efield_rod(1, [1,0,-4], 2000, 3))\n",
    "# print(\"\\n\")\n",
    "# print(efield_rod(1, [1,0,0], 2000, 30))\n",
    "# print(efield_rod(1, [1,0,0], 2000, 300))\n",
    "# print(efield_rod(1, [1,0,0], 2000, 3000))\n",
    "# print(efield_rod(1, [1,0,0], 2000, 30000))\n"
   ]
  }
 ],
 "metadata": {
  "kernelspec": {
   "display_name": "Python 3",
   "language": "python",
   "name": "python3"
  },
  "language_info": {
   "codemirror_mode": {
    "name": "ipython",
    "version": 3
   },
   "file_extension": ".py",
   "mimetype": "text/x-python",
   "name": "python",
   "nbconvert_exporter": "python",
   "pygments_lexer": "ipython3",
   "version": "3.8.5"
  }
 },
 "nbformat": 4,
 "nbformat_minor": 4
}
