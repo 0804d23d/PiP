{
 "cells": [
  {
   "cell_type": "markdown",
   "metadata": {
    "id": "M9it_ErOyRCb"
   },
   "source": [
    "## Numerical measurements of centre of mass\n",
    "Let's use the computer to find the centre of mass of each plastic piece. For that, we need two python modules. One is called numpy and it contains functions to deal with numerical data in python. The matplotlib module provides lots of tools to display data in python."
   ]
  },
  {
   "cell_type": "code",
   "execution_count": 1,
   "metadata": {
    "id": "9nQ-yJYJyRCc"
   },
   "outputs": [
    {
     "name": "stdout",
     "output_type": "stream",
     "text": [
      "Using matplotlib backend: MacOSX\n"
     ]
    }
   ],
   "source": [
    "import matplotlib.pyplot as plt\n",
    "import numpy as np\n",
    "\n",
    "# this is to make sure figures pop out as a separate window:\n",
    "%matplotlib\n",
    "\n",
    "# loading standard colour maps\n",
    "from matplotlib import cm "
   ]
  },
  {
   "cell_type": "markdown",
   "metadata": {
    "id": "ngp6XlMlyRCc"
   },
   "source": [
    "The code snippet below will prompt you for the filename of your scan. Make sure it is in the working directory! \n",
    " Run the code cell below, and at the prompt,\n",
    "type in the image filename for one of your pieces. For example, if\n",
    "your piece is labelled `Q2`, you should type in `Q2` (or the full path to the file if is not in the working directory) in response to the question: `Name of image file?`."
   ]
  },
  {
   "cell_type": "code",
   "execution_count": 3,
   "metadata": {
    "id": "DAg8WnubyRCc"
   },
   "outputs": [
    {
     "name": "stdout",
     "output_type": "stream",
     "text": [
      "Name of image file?2\n"
     ]
    }
   ],
   "source": [
    "fname = input('Name of image file?')\n",
    "F = plt.imread(fname+'.png')"
   ]
  },
  {
   "cell_type": "markdown",
   "metadata": {
    "id": "GyIGs-yyyRCd"
   },
   "source": [
    "The following script reads plots the scanned figures.  The image file is read with the `imread()` function and is converted into a NumPy array named `F`. The `imshow` function is used to display the array as a greyscale image using axes with equal scaling."
   ]
  },
  {
   "cell_type": "code",
   "execution_count": 4,
   "metadata": {
    "id": "zDOW-FxRyRCd"
   },
   "outputs": [],
   "source": [
    "fig, ax = plt.subplots()\n",
    "implot = ax.imshow(F, cmap=cm.gray, aspect='equal')\n",
    "plt.show()"
   ]
  },
  {
   "cell_type": "markdown",
   "metadata": {
    "id": "GLXVzP-SyRCd"
   },
   "source": [
    "You should see the piece displayed in white on a black background in the figure.  The axes are in pixels, and since no figure is complete with axis labels:"
   ]
  },
  {
   "cell_type": "code",
   "execution_count": 5,
   "metadata": {
    "id": "3T5AOPd-yRCe"
   },
   "outputs": [
    {
     "data": {
      "text/plain": [
       "Text(0, 0.5, 'vertical distance (in pixels)')"
      ]
     },
     "execution_count": 5,
     "metadata": {},
     "output_type": "execute_result"
    }
   ],
   "source": [
    "ax.set_xlabel('horizontal distance (in pixels)')\n",
    "ax.set_ylabel('vertical distance (in pixels)')"
   ]
  },
  {
   "cell_type": "markdown",
   "metadata": {
    "id": "ouJlxM_ayRCe"
   },
   "source": [
    "`F` is\n",
    "simply a (large) table of numbers whose entries consist of zeros\n",
    "(black) and ones (white). To examine the contents of\n",
    "an array, type its name in a code cell."
   ]
  },
  {
   "cell_type": "code",
   "execution_count": 12,
   "metadata": {
    "id": "AWGlMLQ3yRCe"
   },
   "outputs": [
    {
     "name": "stdout",
     "output_type": "stream",
     "text": [
      "[[0.49411765 0.5647059  0.6431373  ... 0.8980392  0.8901961  0.92156863]\n",
      " [0.57254905 0.6156863  0.654902   ... 0.8980392  0.8901961  0.92156863]\n",
      " [0.60784316 0.627451   0.6509804  ... 0.8980392  0.8901961  0.92156863]\n",
      " ...\n",
      " [0.12941177 0.26666668 0.32156864 ... 0.07843138 0.07058824 0.10196079]\n",
      " [0.14901961 0.21568628 0.59607846 ... 0.12156863 0.05098039 0.04313726]\n",
      " [0.09803922 0.12941177 0.39607844 ... 0.05098039 0.05490196 0.08627451]]\n"
     ]
    },
    {
     "data": {
      "text/plain": [
       "(2338, 1653)"
      ]
     },
     "execution_count": 12,
     "metadata": {},
     "output_type": "execute_result"
    }
   ],
   "source": [
    "print(F)\n",
    "F.shape"
   ]
  },
  {
   "cell_type": "markdown",
   "metadata": {
    "id": "Ri8uKwkxyRCe"
   },
   "source": [
    "We started this lab with explaining how in case of discrete masses, the centre $\\bf{R}$ obeys:\n",
    "\\begin{equation}\n",
    "    \\sum_{i = 1}^n m_i\\left(\\mathbf{r}_i-\\mathbf{R}\\right) = 0 . \n",
    "\\end{equation}\n",
    "\n",
    "If the mass distribution is continuous with the density $\\rho(\\bf{r})$ within a solid $Q$, then the integral of the weighted position coordinates of the points in this volume relative to the center of mass R over the volume V is zero, that is\n",
    "\\begin{equation} \n",
    "   \\iiint \\limits _{Q}\\rho (\\mathbf {r} )(\\mathbf {r} -\\mathbf {R} )dV=0.\n",
    "\\end{equation}\n",
    "\n",
    "Solving for the coordinates $\\bf{R}$, we get\n",
    "\\begin{equation}\n",
    "  \\mathbf {R} ={\\frac {1}{M}}\\iiint \\limits _{Q}\\rho (\\mathbf {r} )\\mathbf {r} dV,\n",
    "\\end{equation}\n",
    "where M is the total mass in the volume. \n",
    "\n",
    "If the density is constant, then\n",
    "\\begin{equation}\n",
    "  \\mathbf {R} ={\\frac {1}{V}}\\iiint \\limits _{Q}\\mathbf {r} dV,\n",
    "\\end{equation}\n",
    "where V is the total volume. "
   ]
  },
  {
   "cell_type": "markdown",
   "metadata": {
    "id": "tutbCLaHyRCf"
   },
   "source": [
    "That is for 3-dimensional objects, but our plastic shapes are only 2-dimensional. In that case, the centre of mass of a plane object $S$ of uniform density involves not volumes $V$, but areas $A$:\n",
    "\n",
    "$\\mathbf{R} = (\\bar{x},\\bar{y})$,\n",
    "where\n",
    "\n",
    "\\begin{eqnarray*}\n",
    "\\bar{x} = \\frac{\\int_Sx\\, dA}{\\int_SdA} ~~~~ \\textrm{and} ~~~~\n",
    "\\bar{y} = \\frac{\\int_Sy\\, dA}{\\int_SdA} \\, .\n",
    "\\end{eqnarray*}\n",
    "\n",
    "We calculate each integral in the usual way, i.e., by\n",
    "\n",
    "**(a)** dividing the set $S$ into small pieces,\n",
    "\n",
    "**(b)** evaluating the quantity to the right of the $\\int$ sign on each of the pieces, and\n",
    "\n",
    "**(c)** adding these up.\n",
    "\n",
    "In the denominators, the integral of $dA$ just yields the total area of the object."
   ]
  },
  {
   "cell_type": "markdown",
   "metadata": {
    "id": "_I-I5OxMyRCf"
   },
   "source": [
    "Write a function definition\n",
    "\n",
    "`def area(shape, res):`\n",
    "\n",
    "which returns the area in **square millimetres**,\n",
    "when `shape` is an array of zeros and ones and `res` is\n",
    "the resolution of the scan in **dots per inch**. You can then use the function by typing\n",
    "`area(F,100)` to display the area of the piece. (3 points)\n",
    "\n",
    "**Hint**:\n",
    "Each pixel (dot) in the scan has a fixed area which you can calculate.\n",
    "You may find the `sum` function useful.\n",
    "If `M = array([[1,2,3],[4,5,6]])` is a 2D array, then `sum(M,0)` is a 1D array formed by adding the rows, yielding `array([5,7,9])`,\n",
    "while `sum(M,1)` is a 1D array formed by adding the columns, yielding `array([6,15])`; \n",
    "`sum(M)` adds both ways to give 21.\n",
    "    "
   ]
  },
  {
   "cell_type": "code",
   "execution_count": 7,
   "metadata": {
    "id": "8jMf6DphyRCf"
   },
   "outputs": [
    {
     "data": {
      "text/plain": [
       "227758.10899900002"
      ]
     },
     "execution_count": 7,
     "metadata": {},
     "output_type": "execute_result"
    }
   ],
   "source": [
    "def area(shape,res):\n",
    "    return np.sum(shape)*(25.4/res)**2\n",
    "area(F,100)"
   ]
  },
  {
   "cell_type": "markdown",
   "metadata": {
    "id": "DVXTF0FcyRCf"
   },
   "source": [
    "For the integral $\\int_Sx\\, dA$, we again divide the set $S$ into small pieces.\n",
    "For each small piece, we calculate $x\\, dA$ which is the product\n",
    "of the $x$ coordinate and the area of the piece.\n",
    "If the piece is small enough, the $x$ coordinate can be\n",
    "taken anywhere within the piece.\n",
    "\n",
    "\n",
    "When we use a scanner, the pixels are small square regions which are ideal\n",
    "candidates for the small pieces into which $S$ is to be divided.\n",
    "Each pixel is an entry in the array `F`. The column number may be\n",
    "regarded as the $x$ coordinate, and the row number as the $y$ coordinate.\n",
    "Using the normal convention for array indices, this is written as\n",
    "`F(y,x)` where the integer `y` is the row index and `x` is the column\n",
    "index. In Python, array indices start at 0, and so `F(0,0)` is at the top left of the array.\n",
    "\n",
    "Let us consider calculating $\\int_Sx\\, dA$ for an array with three rows and four columns.\n",
    "In the table below, each `F(y,x)` is either one or zero, depending whether or not\n",
    "the pixel belongs to the set $S$:\n",
    "\n",
    "\\begin{bmatrix}\n",
    "\\texttt{F(0,0)} & \\texttt{F(0,1)} & \\texttt{F(0,2)} & \\texttt{F(0,3)}\\\\\n",
    "\\texttt{F(1,0)} & \\texttt{F(1,1)} & \\texttt{F(1,2)} & \\texttt{F(1,3)}\\\\\n",
    "\\texttt{F(2,0)} & \\texttt{F(2,1)} & \\texttt{F(2,2)} & \\texttt{F(2,3)}\n",
    "\\end{bmatrix}\n",
    "\n",
    "Each pixel has an $x$ value associated with it, which is equal to the column (second) index.\n",
    "We can multiply every `F(y,x)` by `x` to obtain the new table\n",
    "\n",
    "\\begin{bmatrix}\n",
    "\\texttt{0*F(0,0)} & \\texttt{1*F(0,1)} & \\texttt{2*F(0,2)} & \\texttt{3*F(0,3)}\\\\\n",
    "\\texttt{0*F(1,0)} & \\texttt{1*F(1,1)} & \\texttt{2*F(1,2)} & \\texttt{3*F(1,3)}\\\\\n",
    "\\texttt{0*F(2,0)} & \\texttt{1*F(2,1)} & \\texttt{2*F(2,2)} & \\texttt{3*F(2,3)}\n",
    "\\end{bmatrix}\n",
    "\n",
    "Remembering that each of the entries in this table is either zero\n",
    "(if the pixel is not in $S$) or is equal to the value of $x$ for that pixel,\n",
    "make sure that you can convince yourself that the value of $\\int_Sx\\, dA$ is the\n",
    "**sum of all elements** in this table multiplied by the area of a single pixel. \n",
    "\n",
    "#### Q7 (5 points)\n",
    "Use these ideas to complete the `cofm` function below that finds the centre of mass\n",
    "of an array \"a\" consisting of zeros and ones. Notice that we do not need to know\n",
    "the resolution in this case, because the area of a pixel appears in both the integrals in the\n",
    "numerator and denominator, so that the area units cancel. The position of the centre of mass is\n",
    "calculated in units of **pixels**.  The NumPy `arange` function is similar to the built-in Python `range`, but returns an array. \n",
    "\n",
    "**Note:** The inner dimensions of matrices must match in order to be multiplied together (e.g. a 2x2 matrix can be multiplied with a 2x4 matrix, but not a 4x2 matrix.  The `newaxis` object can be used to expand the dimensions of an array/matrix by one unit-length dimension. Evaluate the following cell as an example of how `newaxis` is used to change the dimensionality of an array."
   ]
  },
  {
   "cell_type": "code",
   "execution_count": 8,
   "metadata": {
    "id": "Jj8rPanpyRCg"
   },
   "outputs": [
    {
     "name": "stdout",
     "output_type": "stream",
     "text": [
      "[5 4 3]\n",
      "[[5]\n",
      " [4]\n",
      " [3]]\n",
      "[[0.00000000e+00 5.64705908e-01 1.28627455e+00 ... 1.48176472e+03\n",
      "  1.46971374e+03 1.52243138e+03]\n",
      " [0.00000000e+00 6.15686297e-01 1.30980396e+00 ... 1.48176472e+03\n",
      "  1.46971374e+03 1.52243138e+03]\n",
      " [0.00000000e+00 6.27451003e-01 1.30196083e+00 ... 1.48176472e+03\n",
      "  1.46971374e+03 1.52243138e+03]\n",
      " ...\n",
      " [0.00000000e+00 2.66666681e-01 6.43137276e-01 ... 1.29411769e+02\n",
      "  1.16541182e+02 1.68439218e+02]\n",
      " [0.00000000e+00 2.15686277e-01 1.19215691e+00 ... 2.00588236e+02\n",
      "  8.41686286e+01 7.12627470e+01]\n",
      " [0.00000000e+00 1.29411772e-01 7.92156875e-01 ... 8.41176482e+01\n",
      "  9.06431380e+01 1.42525494e+02]]\n"
     ]
    },
    {
     "data": {
      "text/plain": [
       "array([[0.00000000e+00, 0.00000000e+00, 0.00000000e+00, ...,\n",
       "        0.00000000e+00, 0.00000000e+00, 0.00000000e+00],\n",
       "       [5.72549045e-01, 6.15686297e-01, 6.54901981e-01, ...,\n",
       "        8.98039222e-01, 8.90196085e-01, 9.21568632e-01],\n",
       "       [1.21568632e+00, 1.25490201e+00, 1.30196083e+00, ...,\n",
       "        1.79607844e+00, 1.78039217e+00, 1.84313726e+00],\n",
       "       ...,\n",
       "       [3.02176487e+02, 6.22666699e+02, 7.50862770e+02, ...,\n",
       "        1.83137261e+02, 1.64823537e+02, 2.38078435e+02],\n",
       "       [3.48109818e+02, 5.03843142e+02, 1.39243927e+03, ...,\n",
       "        2.83984314e+02, 1.19090198e+02, 1.00768630e+02],\n",
       "       [2.29117651e+02, 3.02435311e+02, 9.25635309e+02, ...,\n",
       "        1.19141178e+02, 1.28305883e+02, 2.01623535e+02]])"
      ]
     },
     "execution_count": 8,
     "metadata": {},
     "output_type": "execute_result"
    }
   ],
   "source": [
    "a = np.array([5,4,3])\n",
    "print(a)\n",
    "print(a[:,np.newaxis])\n",
    "\n",
    "def cofm(shape, area):\n",
    "    return shape * area\n",
    "\n",
    "x = np.arange(1653)\n",
    "y = np.arange(2338)\n",
    "y = y[:,np.newaxis]\n",
    "\n",
    "print(cofm(F, x))\n",
    "cofm(F, y)"
   ]
  },
  {
   "cell_type": "code",
   "execution_count": 11,
   "metadata": {},
   "outputs": [
    {
     "name": "stdout",
     "output_type": "stream",
     "text": [
      "(1653,)\n"
     ]
    },
    {
     "data": {
      "text/plain": [
       "(2338, 1)"
      ]
     },
     "execution_count": 11,
     "metadata": {},
     "output_type": "execute_result"
    }
   ],
   "source": [
    "print(x.shape)\n",
    "y.shape"
   ]
  },
  {
   "cell_type": "markdown",
   "metadata": {
    "id": "EB3i7zbKyRCg"
   },
   "source": [
    "#### Q8 (5 pts) \n",
    "If we now enter\n",
    "\n",
    "`xcm, ycm = cofm(F)`\n",
    "\n",
    "the coordinates of the centre of mass returned from `cofm` are placed in `xcm` and `ycm`. \n",
    "Record the coordinates of the centre of mass (xcm and ycm) for each of the pieces of plastic using the scans and code you created."
   ]
  },
  {
   "cell_type": "code",
   "execution_count": 9,
   "metadata": {},
   "outputs": [
    {
     "name": "stdout",
     "output_type": "stream",
     "text": [
      "[[0.00000000e+00 5.64705908e-01 1.28627455e+00 ... 1.48176472e+03\n",
      "  1.46971374e+03 1.52243138e+03]\n",
      " [0.00000000e+00 6.15686297e-01 1.30980396e+00 ... 1.48176472e+03\n",
      "  1.46971374e+03 1.52243138e+03]\n",
      " [0.00000000e+00 6.27451003e-01 1.30196083e+00 ... 1.48176472e+03\n",
      "  1.46971374e+03 1.52243138e+03]\n",
      " ...\n",
      " [0.00000000e+00 2.66666681e-01 6.43137276e-01 ... 1.29411769e+02\n",
      "  1.16541182e+02 1.68439218e+02]\n",
      " [0.00000000e+00 2.15686277e-01 1.19215691e+00 ... 2.00588236e+02\n",
      "  8.41686286e+01 7.12627470e+01]\n",
      " [0.00000000e+00 1.29411772e-01 7.92156875e-01 ... 8.41176482e+01\n",
      "  9.06431380e+01 1.42525494e+02]]\n"
     ]
    },
    {
     "data": {
      "text/plain": [
       "array([[0.00000000e+00, 0.00000000e+00, 0.00000000e+00, ...,\n",
       "        0.00000000e+00, 0.00000000e+00, 0.00000000e+00],\n",
       "       [5.72549045e-01, 6.15686297e-01, 6.54901981e-01, ...,\n",
       "        8.98039222e-01, 8.90196085e-01, 9.21568632e-01],\n",
       "       [1.21568632e+00, 1.25490201e+00, 1.30196083e+00, ...,\n",
       "        1.79607844e+00, 1.78039217e+00, 1.84313726e+00],\n",
       "       ...,\n",
       "       [3.02176487e+02, 6.22666699e+02, 7.50862770e+02, ...,\n",
       "        1.83137261e+02, 1.64823537e+02, 2.38078435e+02],\n",
       "       [3.48109818e+02, 5.03843142e+02, 1.39243927e+03, ...,\n",
       "        2.83984314e+02, 1.19090198e+02, 1.00768630e+02],\n",
       "       [2.29117651e+02, 3.02435311e+02, 9.25635309e+02, ...,\n",
       "        1.19141178e+02, 1.28305883e+02, 2.01623535e+02]])"
      ]
     },
     "execution_count": 9,
     "metadata": {},
     "output_type": "execute_result"
    }
   ],
   "source": [
    "xcm = cofm(F, x)\n",
    "print(xcm)\n",
    "\n",
    "ycm = cofm(F, y)\n",
    "ycm"
   ]
  },
  {
   "cell_type": "code",
   "execution_count": null,
   "metadata": {},
   "outputs": [],
   "source": []
  }
 ],
 "metadata": {
  "colab": {
   "name": "lab223.ipynb",
   "provenance": []
  },
  "kernelspec": {
   "display_name": "Python 3",
   "language": "python",
   "name": "python3"
  },
  "language_info": {
   "codemirror_mode": {
    "name": "ipython",
    "version": 3
   },
   "file_extension": ".py",
   "mimetype": "text/x-python",
   "name": "python",
   "nbconvert_exporter": "python",
   "pygments_lexer": "ipython3",
   "version": "3.8.5"
  }
 },
 "nbformat": 4,
 "nbformat_minor": 1
}
