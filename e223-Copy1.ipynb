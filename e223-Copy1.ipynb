{
 "cells": [
  {
   "cell_type": "markdown",
   "metadata": {
    "id": "M9it_ErOyRCb"
   },
   "source": [
    "## Numerical measurements of centre of mass\n",
    "Let's use the computer to find the centre of mass of each plastic piece. For that, we need two python modules. One is called numpy and it contains functions to deal with numerical data in python. The matplotlib module provides lots of tools to display data in python."
   ]
  },
  {
   "cell_type": "code",
   "execution_count": 1,
   "metadata": {
    "id": "9nQ-yJYJyRCc"
   },
   "outputs": [
    {
     "name": "stdout",
     "output_type": "stream",
     "text": [
      "Using matplotlib backend: MacOSX\n"
     ]
    }
   ],
   "source": [
    "import matplotlib.pyplot as plt\n",
    "import numpy as np\n",
    "\n",
    "# this is to make sure figures pop out as a separate window:\n",
    "%matplotlib\n",
    "\n",
    "# loading standard colour maps\n",
    "from matplotlib import cm "
   ]
  },
  {
   "cell_type": "code",
   "execution_count": 37,
   "metadata": {
    "id": "DAg8WnubyRCc"
   },
   "outputs": [
    {
     "name": "stdout",
     "output_type": "stream",
     "text": [
      "Name of image file?3\n"
     ]
    }
   ],
   "source": [
    "res_ = 200\n",
    "fname = input('Name of image file?')\n",
    "F = plt.imread(fname+'.png')"
   ]
  },
  {
   "cell_type": "markdown",
   "metadata": {
    "id": "GyIGs-yyyRCd"
   },
   "source": [
    "The following script reads plots the scanned figures.  The image file is read with the `imread()` function and is converted into a NumPy array named `F`. The `imshow` function is used to display the array as a greyscale image using axes with equal scaling."
   ]
  },
  {
   "cell_type": "code",
   "execution_count": 44,
   "metadata": {
    "id": "zDOW-FxRyRCd"
   },
   "outputs": [],
   "source": [
    "fig, ax = plt.subplots()\n",
    "implot = ax.imshow(F, cmap=cm.gray, aspect='equal')\n",
    "plt.ion()"
   ]
  },
  {
   "cell_type": "markdown",
   "metadata": {
    "id": "GLXVzP-SyRCd"
   },
   "source": [
    "You should see the piece displayed in white on a black background in the figure.  The axes are in pixels, and since no figure is complete with axis labels:"
   ]
  },
  {
   "cell_type": "code",
   "execution_count": null,
   "metadata": {
    "id": "3T5AOPd-yRCe"
   },
   "outputs": [],
   "source": [
    "ax.set_xlabel('horizontal distance (in pixels)')\n",
    "ax.set_ylabel('vertical distance (in pixels)')"
   ]
  },
  {
   "cell_type": "markdown",
   "metadata": {
    "id": "Ri8uKwkxyRCe"
   },
   "source": [
    "We started this lab with explaining how in case of discrete masses, the centre $\\bf{R}$ obeys:\n",
    "\\begin{equation}\n",
    "    \\sum_{i = 1}^n m_i\\left(\\mathbf{r}_i-\\mathbf{R}\\right) = 0 . \n",
    "\\end{equation}\n",
    "\n",
    "If the mass distribution is continuous with the density $\\rho(\\bf{r})$ within a solid $Q$, then the integral of the weighted position coordinates of the points in this volume relative to the center of mass R over the volume V is zero, that is\n",
    "\\begin{equation} \n",
    "   \\iiint \\limits _{Q}\\rho (\\mathbf {r} )(\\mathbf {r} -\\mathbf {R} )dV=0.\n",
    "\\end{equation}\n",
    "\n",
    "Solving for the coordinates $\\bf{R}$, we get\n",
    "\\begin{equation}\n",
    "  \\mathbf {R} ={\\frac {1}{M}}\\iiint \\limits _{Q}\\rho (\\mathbf {r} )\\mathbf {r} dV,\n",
    "\\end{equation}\n",
    "where M is the total mass in the volume. \n",
    "\n",
    "If the density is constant, then\n",
    "\\begin{equation}\n",
    "  \\mathbf {R} ={\\frac {1}{V}}\\iiint \\limits _{Q}\\mathbf {r} dV,\n",
    "\\end{equation}\n",
    "where V is the total volume. "
   ]
  },
  {
   "cell_type": "markdown",
   "metadata": {
    "id": "tutbCLaHyRCf"
   },
   "source": [
    "That is for 3-dimensional objects, but our plastic shapes are only 2-dimensional. In that case, the centre of mass of a plane object $S$ of uniform density involves not volumes $V$, but areas $A$:\n",
    "\n",
    "$\\mathbf{R} = (\\bar{x},\\bar{y})$,\n",
    "where\n",
    "\n",
    "\\begin{eqnarray*}\n",
    "\\bar{x} = \\frac{\\int_Sx\\, dA}{\\int_SdA} ~~~~ \\textrm{and} ~~~~\n",
    "\\bar{y} = \\frac{\\int_Sy\\, dA}{\\int_SdA} \\, .\n",
    "\\end{eqnarray*}\n",
    "\n",
    "We calculate each integral in the usual way, i.e., by\n",
    "\n",
    "**(a)** dividing the set $S$ into small pieces,\n",
    "\n",
    "**(b)** evaluating the quantity to the right of the $\\int$ sign on each of the pieces, and\n",
    "\n",
    "**(c)** adding these up.\n",
    "\n",
    "In the denominators, the integral of $dA$ just yields the total area of the object."
   ]
  },
  {
   "cell_type": "code",
   "execution_count": 45,
   "metadata": {
    "id": "8jMf6DphyRCf"
   },
   "outputs": [
    {
     "data": {
      "text/plain": [
       "59460.558498000006"
      ]
     },
     "execution_count": 45,
     "metadata": {},
     "output_type": "execute_result"
    }
   ],
   "source": [
    "def area(shape,res):\n",
    "    return np.sum(shape)*(25.4/res)**2\n",
    "area(F,res_)"
   ]
  },
  {
   "cell_type": "markdown",
   "metadata": {
    "id": "DVXTF0FcyRCf"
   },
   "source": [
    "For the integral $\\int_Sx\\, dA$, we again divide the set $S$ into small pieces.\n",
    "For each small piece, we calculate $x\\, dA$ which is the product\n",
    "of the $x$ coordinate and the area of the piece.\n",
    "If the piece is small enough, the $x$ coordinate can be\n",
    "taken anywhere within the piece.\n",
    "\n",
    "\n",
    "When we use a scanner, the pixels are small square regions which are ideal\n",
    "candidates for the small pieces into which $S$ is to be divided.\n",
    "Each pixel is an entry in the array `F`. The column number may be\n",
    "regarded as the $x$ coordinate, and the row number as the $y$ coordinate.\n",
    "Using the normal convention for array indices, this is written as\n",
    "`F(y,x)` where the integer `y` is the row index and `x` is the column\n",
    "index. In Python, array indices start at 0, and so `F(0,0)` is at the top left of the array.\n",
    "\n",
    "Let us consider calculating $\\int_Sx\\, dA$ for an array with three rows and four columns.\n",
    "In the table below, each `F(y,x)` is either one or zero, depending whether or not\n",
    "the pixel belongs to the set $S$:\n",
    "\n",
    "\\begin{bmatrix}\n",
    "\\texttt{F(0,0)} & \\texttt{F(0,1)} & \\texttt{F(0,2)} & \\texttt{F(0,3)}\\\\\n",
    "\\texttt{F(1,0)} & \\texttt{F(1,1)} & \\texttt{F(1,2)} & \\texttt{F(1,3)}\\\\\n",
    "\\texttt{F(2,0)} & \\texttt{F(2,1)} & \\texttt{F(2,2)} & \\texttt{F(2,3)}\n",
    "\\end{bmatrix}\n",
    "\n",
    "Each pixel has an $x$ value associated with it, which is equal to the column (second) index.\n",
    "We can multiply every `F(y,x)` by `x` to obtain the new table\n",
    "\n",
    "\\begin{bmatrix}\n",
    "\\texttt{0*F(0,0)} & \\texttt{1*F(0,1)} & \\texttt{2*F(0,2)} & \\texttt{3*F(0,3)}\\\\\n",
    "\\texttt{0*F(1,0)} & \\texttt{1*F(1,1)} & \\texttt{2*F(1,2)} & \\texttt{3*F(1,3)}\\\\\n",
    "\\texttt{0*F(2,0)} & \\texttt{1*F(2,1)} & \\texttt{2*F(2,2)} & \\texttt{3*F(2,3)}\n",
    "\\end{bmatrix}\n",
    "\n",
    "Remembering that each of the entries in this table is either zero\n",
    "(if the pixel is not in $S$) or is equal to the value of $x$ for that pixel,\n",
    "make sure that you can convince yourself that the value of $\\int_Sx\\, dA$ is the\n",
    "**sum of all elements** in this table multiplied by the area of a single pixel. \n",
    "\n",
    "#### Q7 (5 points)\n",
    "Use these ideas to complete the `cofm` function below that finds the centre of mass\n",
    "of an array \"a\" consisting of zeros and ones. Notice that we do not need to know\n",
    "the resolution in this case, because the area of a pixel appears in both the integrals in the\n",
    "numerator and denominator, so that the area units cancel. The position of the centre of mass is\n",
    "calculated in units of **pixels**.  The NumPy `arange` function is similar to the built-in Python `range`, but returns an array. \n",
    "\n",
    "**Note:** The inner dimensions of matrices must match in order to be multiplied together (e.g. a 2x2 matrix can be multiplied with a 2x4 matrix, but not a 4x2 matrix.  The `newaxis` object can be used to expand the dimensions of an array/matrix by one unit-length dimension. Evaluate the following cell as an example of how `newaxis` is used to change the dimensionality of an array."
   ]
  },
  {
   "cell_type": "code",
   "execution_count": 46,
   "metadata": {
    "id": "Jj8rPanpyRCg"
   },
   "outputs": [],
   "source": [
    "#a = np.array([5,4,3])\n",
    "#print(a)\n",
    "#print(a[:,np.newaxis])\n",
    "\n",
    "def cofm(shape,res):\n",
    "    return np.sum(shape)*(25.4/res)**2\n",
    "\n",
    "x = F * np.arange(1653)\n",
    "y = np.arange(2338)[:,np.newaxis] * F\n",
    "\n",
    "#print(cofm(x, res_))\n",
    "\n",
    "#cofm(y, res_)"
   ]
  },
  {
   "cell_type": "markdown",
   "metadata": {
    "id": "EB3i7zbKyRCg"
   },
   "source": [
    "#### Q8 (5 pts) \n",
    "If we now enter\n",
    "\n",
    "`xcm, ycm = cofm(F)`\n",
    "\n",
    "the coordinates of the centre of mass returned from `cofm` are placed in `xcm` and `ycm`. \n",
    "Record the coordinates of the centre of mass (xcm and ycm) for each of the pieces of plastic using the scans and code you created."
   ]
  },
  {
   "cell_type": "code",
   "execution_count": 47,
   "metadata": {},
   "outputs": [
    {
     "name": "stdout",
     "output_type": "stream",
     "text": [
      "844.0524655731216\n"
     ]
    },
    {
     "data": {
      "text/plain": [
       "1184.3481657643715"
      ]
     },
     "execution_count": 47,
     "metadata": {},
     "output_type": "execute_result"
    }
   ],
   "source": [
    "xcm = cofm(x, res_)/area(F, res_)\n",
    "#xcm.shape\n",
    "\n",
    "ycm = cofm(y, res_)/area(F, res_)\n",
    "print(xcm)\n",
    "ycm"
   ]
  }
 ],
 "metadata": {
  "colab": {
   "name": "lab223.ipynb",
   "provenance": []
  },
  "kernelspec": {
   "display_name": "Python 3",
   "language": "python",
   "name": "python3"
  },
  "language_info": {
   "codemirror_mode": {
    "name": "ipython",
    "version": 3
   },
   "file_extension": ".py",
   "mimetype": "text/x-python",
   "name": "python",
   "nbconvert_exporter": "python",
   "pygments_lexer": "ipython3",
   "version": "3.8.5"
  }
 },
 "nbformat": 4,
 "nbformat_minor": 1
}
